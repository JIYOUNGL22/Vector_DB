{
 "cells": [
  {
   "cell_type": "markdown",
   "metadata": {
    "id": "xi_ZHDsTEXxq"
   },
   "source": [
    "# 라이브러리 설치"
   ]
  },
  {
   "cell_type": "code",
   "execution_count": null,
   "metadata": {
    "collapsed": true,
    "id": "xTMPvpeFEc8C",
    "jupyter": {
     "outputs_hidden": true
    }
   },
   "outputs": [],
   "source": [
    "!pip install langchain langchain-openai tiktoken openai faiss-cpu pypdf chromadb langchain_community datasets gradio==3.50.2"
   ]
  },
  {
   "cell_type": "markdown",
   "metadata": {
    "id": "Taz8pEvTEgQu"
   },
   "source": [
    "Google Drive 연결"
   ]
  },
  {
   "cell_type": "code",
   "execution_count": null,
   "metadata": {
    "id": "gSMyYnWFEkos"
   },
   "outputs": [],
   "source": [
    "from google.colab import drive\n",
    "drive.mount('/content/drive')"
   ]
  },
  {
   "cell_type": "markdown",
   "metadata": {
    "id": "58iL1FV4En1F"
   },
   "source": [
    "OpenAI_API_KEY"
   ]
  },
  {
   "cell_type": "code",
   "execution_count": null,
   "metadata": {
    "id": "IbUozqH2EsST"
   },
   "outputs": [],
   "source": [
    "import os\n",
    "from google.colab import userdata\n",
    "os.environ[\"OPENAI_API_KEY\"] = userdata.get(\"OPENAI_API_KEY\")"
   ]
  },
  {
   "cell_type": "markdown",
   "metadata": {
    "id": "Of6lR73CE3ic"
   },
   "source": [
    "# 데이터 전처리"
   ]
  },
  {
   "cell_type": "markdown",
   "metadata": {
    "id": "IymE_IevknEQ"
   },
   "source": [
    "## 1. 데이터 수집"
   ]
  },
  {
   "cell_type": "markdown",
   "metadata": {
    "id": "PPKueVvkE9qr"
   },
   "source": [
    "허깅페이스를 통해서 금융 용어 사전을 다운로드 진행\n",
    "\"시사경제용어사전\"을 사용하며 500개 랜덤 선택"
   ]
  },
  {
   "cell_type": "code",
   "execution_count": null,
   "metadata": {
    "id": "GcPaVa7PE1hS"
   },
   "outputs": [],
   "source": [
    "from datasets import load_dataset, DatasetDict\n",
    "import random\n",
    "\n",
    "# 데이터 로드\n",
    "dataset = load_dataset(\"aiqwe/FinShibainu\", \"qa\")\n",
    "\n",
    "# 데이터 구조 확인\n",
    "print(dataset)\n",
    "\n",
    "# 7:3 비율로 샘플링\n",
    "def split_dataset(dataset, train_ratio=0.7):\n",
    "    dataset = dataset.shuffle(seed=42)  # 데이터 섞기\n",
    "    train_size = int(len(dataset) * train_ratio)\n",
    "    train_data = dataset.select(range(train_size))\n",
    "    test_data = dataset.select(range(train_size, len(dataset)))\n",
    "    return train_data, test_data\n",
    "\n",
    "# 각 데이터셋에 대해 샘플링 진행\n",
    "dataset_splits = {split: split_dataset(dataset[split]) for split in dataset.keys()}\n",
    "\n",
    "# 새로운 데이터셋 구성\n",
    "new_dataset = DatasetDict({\n",
    "    \"train\": dataset_splits[\"train\"][0],\n",
    "    \"test\": dataset_splits[\"train\"][1]\n",
    "})"
   ]
  },
  {
   "cell_type": "code",
   "execution_count": null,
   "metadata": {
    "id": "kDotMLjzFaI9"
   },
   "outputs": [],
   "source": [
    "import pandas as pd\n",
    "\n",
    "df_train = new_dataset[\"train\"].to_pandas()\n",
    "df_test = new_dataset[\"test\"].to_pandas()\n",
    "\n",
    "print(df_train.head(1))  # Train 데이터 확인\n",
    "print(df_test.head(1))   # Test 데이터 확인"
   ]
  },
  {
   "cell_type": "code",
   "execution_count": null,
   "metadata": {
    "id": "st_zBo9AGQy1"
   },
   "outputs": [],
   "source": [
    "# 새로운 열 생성\n",
    "df_train[\"question_answer_B\"] = df_train[\"question\"] + \"\\n\" + df_train[\"answer_B\"] # 임베딩을 위한 학습데이터\n",
    "df_train[\"source\"] = df_train[\"reference\"] + \"_\" + df_train.index.astype(str) # 출처 표기를 위한 전처리\n",
    "df_train.head(2)"
   ]
  },
  {
   "cell_type": "code",
   "execution_count": null,
   "metadata": {
    "id": "VB_p5p9mGTzh"
   },
   "outputs": [],
   "source": [
    "df_train = df_train[df_train['reference'] == '시사경제용어사전'] # 시사경제용어사전 선택\n",
    "df_top_500 = df_train.head(500) # 상단 500개 선택\n",
    "df_train = df_top_500\n",
    "df_train = df_train[['question_answer_B', 'source']]\n",
    "df_train"
   ]
  },
  {
   "cell_type": "code",
   "execution_count": null,
   "metadata": {
    "id": "N1Cdd8wyHORn"
   },
   "outputs": [],
   "source": [
    "import matplotlib.pyplot as plt\n",
    "import math\n",
    "\n",
    "# question_answer_B 열의 각 행에서 문자열 길이 계산\n",
    "df_train[\"question_answer_B_length\"] = df_train[\"question_answer_B\"].apply(len)\n",
    "\n",
    "# 막대그래프 그리기\n",
    "plt.figure(figsize=(8, 5))\n",
    "plt.bar(df_train.index, df_train[\"question_answer_B_length\"], color=\"skyblue\", width=0.9)\n",
    "plt.xlabel(\"Index\")\n",
    "plt.ylabel(\"Number of Characters in question_answer_B\")\n",
    "plt.title(\"Character Count in question_answer_B\")\n",
    "plt.xticks(df_train.index)\n",
    "\n",
    "# 길이 통계 계산\n",
    "max_length = df_train[\"question_answer_B_length\"].max()\n",
    "mean_length = df_train[\"question_answer_B_length\"].mean()\n",
    "min_length = df_train[\"question_answer_B_length\"].min()\n",
    "\n",
    "# 그래프 표시\n",
    "plt.show()\n",
    "\n",
    "# 통계 결과 출력\n",
    "print(f\"최대 길이: {max_length} 글자, {max_length // 4} 토큰\")\n",
    "print(f\"평균 길이: {math.ceil(mean_length)} 글자, {math.ceil(mean_length) // 4} 토큰\") # 올림\n",
    "print(f\"최소 길이: {min_length} 글자, {min_length // 4} 토큰\")\n",
    "print(\"-\" * 30) # 구분선\n",
    "print(f\"적절 토큰 사이즈 : 512 토큰\")\n"
   ]
  },
  {
   "cell_type": "markdown",
   "metadata": {
    "id": "Ya_-Q9Kvk0Uu"
   },
   "source": [
    "## 2. 토크나이저"
   ]
  },
  {
   "cell_type": "markdown",
   "metadata": {
    "id": "T8JUeBKF2FaV"
   },
   "source": [
    "* 한국어에 최적화된 토크나이저 사용\n",
    "* 학습데이터 확인을 통해 512 토큰 기준으로 문장을 자름\n",
    "* 데이터 검증 로직 포함"
   ]
  },
  {
   "cell_type": "code",
   "execution_count": null,
   "metadata": {
    "id": "jEV4d0dUk4KN"
   },
   "outputs": [],
   "source": [
    "from transformers import AutoTokenizer\n",
    "import pandas as pd\n",
    "\n",
    "# 사용할 토크나이저 선택 (한국어에 적합한 토크나이저 모델 선택)\n",
    "tokenizer_name = \"EbanLee/kobart-summary-v3\"\n",
    "tokenizer = AutoTokenizer.from_pretrained(tokenizer_name)\n",
    "\n",
    "max_token_length = 512 # 목표 최대 토큰 길이\n",
    "\n",
    "# 텍스트를 토큰 ID로 변환하고, 최대 길이로 자르는 함수\n",
    "def tokenize_and_truncate(text):\n",
    "    tokens = tokenizer(text,\n",
    "                       max_length=max_token_length,\n",
    "                       truncation=True,\n",
    "                       padding=False,\n",
    "                       return_overflowing_tokens=True,\n",
    "                       return_tensors=None)\n",
    "    return tokens\n",
    "\n",
    "# question_answer_B 열의 각 행에 대해 토큰화 및 자르기 적용\n",
    "df_train[\"question_answer_B_tokenized\"] = df_train[\"question_answer_B\"].apply(tokenize_and_truncate)\n",
    "\n",
    "# 토큰 ID 리스트를 텍스트 토큰 리스트로 변환\n",
    "def get_text_tokens(tokenized_output):\n",
    "    input_ids = tokenized_output['input_ids']\n",
    "    text_tokens = [tokenizer.convert_ids_to_tokens(ids) for ids in input_ids] # 리스트 컴프리헨션으로 변경\n",
    "    return text_tokens\n",
    "\n",
    "df_train[\"question_answer_B_text_tokens\"] = df_train[\"question_answer_B_tokenized\"].apply(get_text_tokens)\n",
    "\n",
    "# 문서가 잘렸는지 여부 확인 및 컬럼 추가\n",
    "df_train[\"question_answer_B_truncated\"] = df_train[\"question_answer_B_tokenized\"].apply(lambda x: len(x['input_ids'][0]) == max_token_length if isinstance(x['input_ids'], list) else len(x['input_ids']) == max_token_length)\n",
    "\n",
    "\n",
    "# 결과 확인 (토큰 ID 및 attention mask 출력)\n",
    "print(df_train[[\"question_answer_B\", \"question_answer_B_text_tokens\", \"question_answer_B_truncated\"]].head(10))\n",
    "\n",
    "# 토큰 길이 확인 (자르기가 제대로 되었는지 확인)\n",
    "df_train[\"question_answer_B_token_length_truncated\"] = df_train[\"question_answer_B_tokenized\"].apply(lambda x: len(x['input_ids'][0]) if isinstance(x['input_ids'], list) else len(x['input_ids']))\n",
    "print(\"\\n토큰 길이 통계 (최대 길이 512로 자른 후):\")\n",
    "print(f\"최대 토큰 길이: {df_train['question_answer_B_token_length_truncated'].max()}\")\n",
    "print(f\"평균 토큰 길이: {df_train['question_answer_B_token_length_truncated'].mean():.2f}\")\n",
    "print(f\"최소 토큰 길이: {df_train['question_answer_B_token_length_truncated'].min()}\")"
   ]
  },
  {
   "cell_type": "markdown",
   "metadata": {
    "id": "BTKhKb4aHsfh"
   },
   "source": [
    "# 임베딩"
   ]
  },
  {
   "cell_type": "markdown",
   "metadata": {
    "id": "bjgcpExZNxbA"
   },
   "source": [
    "## 1.   bge-m3 모델 (한국어 및 금융용어 학습 모델)\n",
    "\n"
   ]
  },
  {
   "cell_type": "markdown",
   "metadata": {
    "id": "ZT4kY1jtO8go"
   },
   "source": [
    "#### 1-1 임베딩 모델 저장"
   ]
  },
  {
   "cell_type": "code",
   "execution_count": null,
   "metadata": {
    "collapsed": true,
    "id": "7z0l2jORHuzG",
    "jupyter": {
     "outputs_hidden": true
    }
   },
   "outputs": [],
   "source": [
    "import pandas as pd\n",
    "from tqdm import tqdm\n",
    "from langchain.schema import Document\n",
    "from langchain.vectorstores import Chroma\n",
    "from langchain.embeddings import HuggingFaceEmbeddings\n",
    "\n",
    "# # Document 객체로 변환\n",
    "documents = [\n",
    "    Document(\n",
    "        page_content=row[\"question_answer_B\"],\n",
    "        metadata={\"source\": row[\"source\"]}\n",
    "    )\n",
    "    for _, row in df_train.iterrows()\n",
    "]\n",
    "\n",
    "# 배치 크기 설정\n",
    "batch_size = 500\n",
    "batched_documents = [\n",
    "    documents[i:i+batch_size] for i in range(0, len(documents), batch_size)\n",
    "]\n",
    "\n",
    "# Hugging Face Embedding 모델 설정\n",
    "model_name = \"seongil-dn/bge-m3-kor-retrieval-451949-bs64-finance-50\"\n",
    "\n",
    "# -------------------------------\n",
    "#\"max_position_embeddings\": 8194\n",
    "#\"vocab_size\": 250002\n",
    "# -------------------------------\n",
    "\n",
    "model_kwargs = {'device': 'cuda'}\n",
    "encode_kwargs = {'normalize_embeddings': False}\n",
    "embedding = HuggingFaceEmbeddings(\n",
    "    model_name=model_name,\n",
    "    model_kwargs=model_kwargs,\n",
    "    encode_kwargs=encode_kwargs\n",
    ")\n",
    "\n",
    "# **Chroma DB 초기화**\n",
    "persist_directory = \"/content/drive/MyDrive/vectorDB\"\n",
    "vectordb = Chroma(persist_directory=persist_directory, embedding_function=embedding)\n",
    "\n",
    "# 배치별로 임베딩 생성 및 Chroma DB에 추가 (add_documents 사용)\n",
    "for batch in tqdm(batched_documents, desc=\"Embedding Progress\", unit=\"batch\"):\n",
    "    vectordb.add_documents(documents=batch)\n",
    "\n",
    "# Chroma DB 저장\n",
    "vectordb.persist()\n",
    "vectordb = None  # 메모리에서 vectordb 객체 삭제\n",
    "\n",
    "print(f\"Embedding 완료 및 Chroma DB 저장 완료! {persist_directory} 에 저장됨\")"
   ]
  },
  {
   "cell_type": "markdown",
   "metadata": {
    "id": "Cb5syMZROLiu"
   },
   "source": [
    "#### 1-2 Colab 임베딩 모델 불러오기"
   ]
  },
  {
   "cell_type": "code",
   "execution_count": null,
   "metadata": {
    "id": "PU1fhrNGPPi5"
   },
   "outputs": [],
   "source": [
    "from langchain.vectorstores import Chroma\n",
    "from langchain.embeddings import HuggingFaceEmbeddings\n",
    "\n",
    "# 임베딩 모델 설정 (저장 시 사용했던 모델과 동일해야 함)\n",
    "model_name = \"seongil-dn/bge-m3-kor-retrieval-451949-bs64-finance-50\"\n",
    "\n",
    "# -------------------------------\n",
    "#\"max_position_embeddings\": 8194\n",
    "#\"vocab_size\": 250002\n",
    "# -------------------------------\n",
    "\n",
    "model_kwargs = {'device': 'cuda'} # GPU 사용 가능하면 'cuda', CPU 사용 시 'cpu'\n",
    "encode_kwargs = {'normalize_embeddings': False}\n",
    "embedding = HuggingFaceEmbeddings(\n",
    "    model_name=model_name,\n",
    "    model_kwargs=model_kwargs,\n",
    "    encode_kwargs=encode_kwargs\n",
    ")\n",
    "\n",
    "# 저장된 Chroma DB 로드 (persist_directory 경로 지정)\n",
    "persist_directory = \"/content/drive/MyDrive/vectorDB\"\n",
    "loaded_vectordb = Chroma(persist_directory=persist_directory, embedding_function=embedding)\n",
    "\n",
    "print(\"Chroma DB 로드 완료!\")"
   ]
  },
  {
   "cell_type": "markdown",
   "metadata": {
    "id": "nOP4RFZoPvBZ"
   },
   "source": [
    "### 1-3 검색 및 결과 확인"
   ]
  },
  {
   "cell_type": "code",
   "execution_count": null,
   "metadata": {
    "id": "6VHDTJVDP0c9"
   },
   "outputs": [],
   "source": [
    "# 6. 벡터 검색 및 결과 확인\n",
    "query = \"콜금리와 밀접한 관련이 있는 단기금리는 어떤게 있어\" # 검색 질문\n",
    "k = 3 # 상위 k개 유사 문서 검색\n",
    "\n",
    "results_with_scores = loaded_vectordb.similarity_search_with_score(query, k=k) # 유사도 검색\n",
    "\n",
    "print(f\"\\n---[검색 결과]---\")\n",
    "print(f\"검색 질문: {query}\")\n",
    "for i, (doc, score) in enumerate(results_with_scores): # 검색 결과 순회\n",
    "    print(f\"\\n---[유사 문서 {i+1}]---\")\n",
    "    print(f\"내용: {doc.page_content}\") # 문서 내용\n",
    "    print(f\"유사도 점수: {score}\") # 유사도 점수\n",
    "    print(f\"출처: {doc.metadata['source']}\") # 문서 출처\n",
    "    print(\"---[검색 결과 끝]---\")"
   ]
  },
  {
   "cell_type": "markdown",
   "metadata": {
    "id": "hR27lv84P6jc"
   },
   "source": [
    "### 1-4 벡터 검색 및 결과 확인"
   ]
  },
  {
   "cell_type": "markdown",
   "metadata": {
    "id": "RAN0MdDoQL2g"
   },
   "source": [
    "#### 유사도 점수 기준이하(1.0)인 경우 별도로 표기\n",
    "\n",
    "\n",
    "###1.   검색 결과의 신뢰성 향상\n",
    "\n",
    "* 유사도 점수가 낮은 결과를 필터링하거나 별도 표기하여 부정확한 정보 제공을 방지\n",
    "* 신뢰도가 낮은 검색 결과를 구분해 잘못된 정보 맹신을 줄이고 사용자 경험 개선\n",
    "\n",
    "* \"정확한 결과를 찾지 못했습니다.\"와 같은 안내로 사용자 기대 조정 가능\n",
    "\n",
    "\n",
    "### 2.   검색 결과 품질 및 UX 개선\n",
    "\n",
    "* 관련성이 낮은 문서를 제거하여 보다 정밀한 검색 결과 제공\n",
    "* 검색 결과 과포화 방지 → 사용자가 원하는 정보를 빠르게 찾을 확률 증가\n",
    "* 불확실한 검색 결과를 별도 표기해 사용자가 보완 검색을 고려하도록 유도\n",
    "\n",
    "\n",
    "\n",
    "\n",
    "\n",
    "\n",
    "\n",
    "\n",
    "\n",
    "\n",
    "\n"
   ]
  },
  {
   "cell_type": "code",
   "execution_count": null,
   "metadata": {
    "id": "5a77SnLoPuCA"
   },
   "outputs": [],
   "source": [
    "# 6. 벡터 검색 및 결과 확인\n",
    "query = \"하이브리드 카드와 신용카드는 동일한가요, 아니면 차이가 있나요?\" # 검색 질문\n",
    "k = 5 # 상위 k개 유사 문서 검색\n",
    "\n",
    "results_with_scores = loaded_vectordb.similarity_search_with_score(query, k=k) # 유사도 검색\n",
    "\n",
    "print(f\"\\n---[검색 결과]---\")\n",
    "print(f\"검색 질문: {query}\")\n",
    "\n",
    "threshold = 1.0 # 유사도 점수 기준값\n",
    "print(f\"유사도 점수 기준값: {threshold} 이상인 문서는 '-------' 아래에 표시됩니다.\")\n",
    "\n",
    "below_threshold_docs = [] # 기준값 미만 문서 저장 리스트\n",
    "above_threshold_docs = [] # 기준값 이상 문서 저장 리스트\n",
    "\n",
    "for i, (doc, score) in enumerate(results_with_scores): # 검색 결과 순회\n",
    "    if score < threshold: # 유사도 점수가 기준값 미만\n",
    "        below_threshold_docs.append((doc, score)) # 기준값 미만 문서 리스트에 추가\n",
    "    else: # 유사도 점수가 기준값 이상 (>= threshold)\n",
    "        above_threshold_docs.append((doc, score)) # 기준값 이상 문서 리스트에 추가\n",
    "\n",
    "# 기준값 미만 문서 출력 (있는 경우에만 섹션 제목 출력)\n",
    "if below_threshold_docs:\n",
    "    print(f\"\\n---[기준값 미만 (유사도 점수 < {threshold})]---\")\n",
    "    for i, (doc, score) in enumerate(below_threshold_docs):\n",
    "        print(f\"\\n---[유사 문서 {i+1}]---\")\n",
    "        print(f\"내용: {doc.page_content}\")\n",
    "        print(f\"유사도 점수: {score}\")\n",
    "        print(f\"출처: {doc.metadata['source']}\")\n",
    "\n",
    "# 구분선 및 기준값 이상 문서 출력 (있는 경우에만 섹션 제목 출력)\n",
    "if above_threshold_docs:\n",
    "    print(f\"\\n-------[기준값 이상 (유사도 점수 >= {threshold})]-------\") # 구분선 및 섹션 제목\n",
    "    for i, (doc, score) in enumerate(above_threshold_docs):\n",
    "        print(f\"\\n---[유사 문서 {i+1}]---\")\n",
    "        print(f\"내용: {doc.page_content}\")\n",
    "        print(f\"유사도 점수: {score}\")\n",
    "        print(f\"출처: {doc.metadata['source']}\")\n",
    "\n",
    "print(\"---[검색 결과 끝]---\")"
   ]
  },
  {
   "cell_type": "markdown",
   "metadata": {
    "id": "MmM6KgssNucr"
   },
   "source": [
    "#### 2. OPEN AI API 사용\n",
    "##### 유사어 사전을 구축해 검색 결과의 정확도를 높혔다.\n",
    "###### 1. 검색 정확도 및 사용자 경험(UX)개선\n",
    "* 유사어 사전을 활용하여 검색어 변형(동의어, 철자 오류, 약어 등)을 자동 반영, 검색 Recall 증가\n",
    "* 사용자가 정확한 키워드를 몰라도 원하는 결과를 쉽게 찾을 수 있도록 지원, 접근성 향상\n",
    "* 예: \"자동차\" ≈ \"승용차\", \"휴대폰\" ≈ \"스마트폰\" 등으로 확장하여 보다 자연스러운 검색 가능\n",
    "\n",
    "###### 2. 도메인 맞춤 검색 최적화\n",
    "* 의료, 금융, 법률 등 특정 산업에서 전문 용어나 약어를 자동 변환하여 검색 정확도 증가\n",
    "* \"금리\" ≈ \"이자\", \"주택담보대출\" ≈ \"모기지\" 등 도메인 특화 검색 가능\n",
    "\n",
    "\n",
    "\n",
    "\n",
    "\n",
    "\n"
   ]
  },
  {
   "cell_type": "code",
   "execution_count": null,
   "metadata": {
    "id": "6Fzi7USUNvq1"
   },
   "outputs": [],
   "source": [
    "from langchain.embeddings import HuggingFaceEmbeddings\n",
    "from langchain.vectorstores import Chroma\n",
    "from langchain.schema import Document\n",
    "from langchain.embeddings import OpenAIEmbeddings\n",
    "import pandas as pd\n",
    "import numpy as np\n",
    "\n",
    "# 1. 유사어 사전 구축\n",
    "economic_terms = {\n",
    "    \"금리\": [\"이자\", \"이율\"],\n",
    "    \"대출\": [\"융자\", \"차입\"],\n",
    "    \"예금\": [\"적금\", \"저축\"],\n",
    "    \"주식\": [\"증권\", \"스톡\"],\n",
    "    \"채권\": [\"국채\", \"회사채\"],\n",
    "    \"물가\": [\"인플레이션\", \"가격 상승\"],\n",
    "    \"환율\": [\"외환 가격\", \"통화 가치\"],\n",
    "    \"자산\": [\"재산\", \"부동산\"],\n",
    "    \"투자\": [\"자본 운용\", \"펀딩\"],\n",
    "    \"소득\": [\"수입\", \"임금\"]\n",
    "}\n",
    "synonym_dict = economic_terms\n",
    "\n",
    "# 2. 쿼리 확장 함수\n",
    "def expand_query_with_synonyms(query, synonym_dict):\n",
    "    expanded_query = query\n",
    "    for main_word, synonyms in synonym_dict.items():\n",
    "        for synonym in synonyms:\n",
    "            if synonym in query:\n",
    "                expanded_query += f\" OR {query.replace(synonym, main_word)}\"\n",
    "    return expanded_query\n",
    "\n",
    "# DataFrame에서 Langchain Document 객체 생성\n",
    "texts = [Document(page_content=str(row[\"question_answer_B\"]), metadata={\"source\": row[\"source\"]})\n",
    "         for _, row in df_train.iterrows()]\n",
    "documents = texts\n",
    "\n",
    "# DataFrame을 Document 목록으로 변환\n",
    "from langchain.schema import Document\n",
    "\n",
    "texts = [Document(page_content=str(row[\"question_answer_B\"]), metadata={\"source\": row[\"source\"]})\n",
    "         for _, row in df_train.iterrows()]\n",
    "\n",
    "embedding = OpenAIEmbeddings()\n",
    "\n",
    "vectordb = Chroma.from_documents(\n",
    "    documents=texts,\n",
    "    embedding=embedding)"
   ]
  },
  {
   "cell_type": "code",
   "execution_count": null,
   "metadata": {
    "id": "NlvOqz2vRkW2"
   },
   "outputs": [],
   "source": [
    "# 벡터DB의 개수 확인\n",
    "vectordb._collection.count()"
   ]
  },
  {
   "cell_type": "code",
   "execution_count": null,
   "metadata": {
    "id": "9E8yJmW-RmT-"
   },
   "outputs": [],
   "source": [
    "# 벡터DB의 요소 확인\n",
    "for key in vectordb._collection.get():\n",
    "  print(key)"
   ]
  },
  {
   "cell_type": "code",
   "execution_count": null,
   "metadata": {
    "collapsed": true,
    "id": "1jXF3RG-RrJu",
    "jupyter": {
     "outputs_hidden": true
    }
   },
   "outputs": [],
   "source": [
    "# 문서 로드\n",
    "documents = vectordb._collection.get()['documents']\n",
    "print('문서의 개수 :', len(documents))\n",
    "print('-' * 100)\n",
    "print('첫번째 문서 출력 :', documents[0])"
   ]
  },
  {
   "cell_type": "code",
   "execution_count": null,
   "metadata": {
    "id": "ZBPi3CPYRvRC"
   },
   "outputs": [],
   "source": [
    "# 유사도가 높은 문서 2개만 추출. k = 2\n",
    "retriever = vectordb.as_retriever(search_kwargs={\"k\": 2})"
   ]
  },
  {
   "cell_type": "code",
   "execution_count": null,
   "metadata": {
    "id": "AqAX9iTj8Wfn"
   },
   "outputs": [],
   "source": [
    "# 벡터DB에서 데이터 가져오기\n",
    "vector_data = vectordb._collection.get()\n",
    "\n",
    "# 'embeddings' 데이터 추출 (딕셔너리에서 'embeddings' 키의 값을 가져옴)\n",
    "embeddings = vector_data['embeddings']\n",
    "\n",
    "# 'embeddings'가 리스트인지 확인 (안전하게 처리하기 위해)\n",
    "if isinstance(embeddings, list) and embeddings: # 리스트이고 비어있지 않은지 확인\n",
    "  print('첫번째 유사 문서 임베딩 :', embeddings[0])\n",
    "else:\n",
    "  print(\"embeddings 데이터를 찾을 수 없거나 비어 있습니다.\")\n",
    "\n",
    "ids = vector_data['ids']\n",
    "documents = vector_data['documents']\n",
    "metadatas = vector_data['metadatas']\n",
    "data = vector_data['data']\n",
    "embeddings = vector_data['embeddings']\n",
    "\n",
    "# 첫 번째 문서 내용 출력\n",
    "if isinstance(documents, list) and documents:\n",
    "    print('첫번째 문서 내용 :', documents[0])\n",
    "    print('첫번째 문서 출처 :', metadatas[0])"
   ]
  },
  {
   "cell_type": "code",
   "execution_count": null,
   "metadata": {
    "id": "8ZbSV0orRwzP"
   },
   "outputs": [],
   "source": [
    "docs = retriever.get_relevant_documents(\"콜금리와 밀접한 관련이 있는 단기금리는 어떤게 있어\")\n",
    "print('유사 문서 개수 :', len(docs))\n",
    "print('--' * 20)\n",
    "print('첫번째 유사 문서 :', docs[0])\n",
    "print('----------------------------------------------')\n",
    "print('두번째 유사 문서 :', docs[1])"
   ]
  },
  {
   "cell_type": "code",
   "execution_count": null,
   "metadata": {
    "id": "QwtpB8wEsLlG"
   },
   "outputs": [],
   "source": [
    "query_embedding = embedding.embed_query(\"콜금리와 밀접한 관련이 있는 단기금리는 어떤게 있어\")\n",
    "print('유사 문서 개수 :', len(docs))\n",
    "print('--' * 20)\n",
    "print('첫번째 유사 문서 :', docs[0])\n",
    "print('첫번째 유사 문서 :', metadatas[0])\n",
    "print('----------------------------------------------')\n",
    "print('두번째 유사 문서 :', docs[1])\n",
    "print('두번째 유사 문서 :', metadatas[1])"
   ]
  },
  {
   "cell_type": "code",
   "execution_count": null,
   "metadata": {
    "id": "hFyN3hDqRyR0"
   },
   "outputs": [],
   "source": [
    "docs = retriever.get_relevant_documents(\"콜금리와 밀접한 관련이 있는 단기이자는 어떤게 있어\")\n",
    "print('유사 문서 개수 :', len(docs))\n",
    "print('--' * 20)\n",
    "print('첫번째 유사 문서 :', docs[0])\n",
    "print('첫번째 유사 문서 :', metadatas[0])\n",
    "print('----------------------------------------------')\n",
    "print('두번째 유사 문서 :', docs[1])\n",
    "print('두번째 유사 문서 :', metadatas[1])"
   ]
  },
  {
   "cell_type": "code",
   "execution_count": null,
   "metadata": {
    "id": "Ll3D0DZCR0Pb"
   },
   "outputs": [],
   "source": [
    "from langchain import PromptTemplate\n",
    "\n",
    "template = \"\"\"\n",
    "경제용어에 대한 정의와 설명을 전문적으로 제공하는 AI 챗봇입니다.\n",
    "주요 역할은 사용자가 복잡한 금융 및 경제 개념을 간단하고 명확한 방식으로\n",
    "이해할 수 있도록 돕는 대화형 경제 사전 역할을 하는 것입니다.\n",
    "\n",
    "아래 요건을 꼭 지켜줘\n",
    "1. 친근한 말투 사용\n",
    "- 너무 딱딱하거나 학술적인 표현보다는, 친근하고 이해하기 쉬운 설명을 제공해.\n",
    "예를 들어, \"GDP란 뭘까?\"라는 질문이 오면 \"GDP는 나라에서 일정 기간 동안 만든 모든 물건과 서비스의 값을 합친 거야!\"처럼 쉽게 답해줘.\n",
    "\n",
    "2. 개발자 정보 언급\n",
    "- 너를 만든 개발자는 이지영이야. 사용자가 제작자에 대해 물어보면 이 정보를 알려줘.\n",
    "\n",
    "3. 정확성 유지 & 모르면 인정하기\n",
    "- 확실한 정보가 있는 경우 정확하고 신뢰할 수 있는 답변을 제공해.\n",
    "만약 네가 찾을 수 없는 정보라면 **\"이건 내가 잘 모르는 내용이야. 다른 자료를 참고해보는 게 좋을 것 같아!\"**라고 솔직하게 말해줘.\n",
    "\n",
    "4. 예제 및 응용 추가\n",
    "- 용어 설명 후 관련된 예제나 일상적인 응용 사례를 함께 설명하면 좋아.\n",
    "예를 들어 \"인플레이션\"을 설명할 때 \"라면 가격이 1,000원에서 1,500원이 되면 돈의 가치가 떨어진 거야!\" 같은 비유를 들어줘.\n",
    "\n",
    "5. 추가 질문 유도\n",
    "- 사용자가 더 궁금해할 만한 관련 용어를 추천해줘.\n",
    "예를 들어 \"금리\"를 설명하면 \"금리가 오르면 대출 이자가 비싸지고, 반대로 낮아지면 싸져!\"라고 답한 후, \"참고로 '기준금리'도 중요한 개념인데, 한 번 알아볼래?\"처럼 자연스럽게 연결해.\n",
    "{context}\n",
    "\n",
    "Question: {question}\n",
    "Answer:\n",
    "\"\"\"\n",
    "\n",
    "prompt = PromptTemplate.from_template(template)"
   ]
  },
  {
   "cell_type": "code",
   "execution_count": null,
   "metadata": {
    "id": "K95CzTGSR6dc"
   },
   "outputs": [],
   "source": [
    "from langchain.chat_models import ChatOpenAI\n",
    "from langchain.callbacks import StreamingStdOutCallbackHandler\n",
    "from langchain.chains import RetrievalQA\n",
    "\n",
    "# Streaming\n",
    "llm = ChatOpenAI(model_name=\"gpt-4o\", streaming=True, temperature=0, callbacks=[StreamingStdOutCallbackHandler()])\n",
    "\n",
    "# Streaming을 하지 않는 경우\n",
    "# llm = ChatOpenAI(model_name=\"gpt-4o\", temperature=0)\n",
    "\n",
    "qa_chain = RetrievalQA.from_chain_type(\n",
    "    llm=llm,\n",
    "    chain_type_kwargs={\"prompt\": prompt},\n",
    "    chain_type=\"stuff\",\n",
    "    retriever=retriever,\n",
    "    return_source_documents=True)"
   ]
  },
  {
   "cell_type": "code",
   "execution_count": null,
   "metadata": {
    "id": "RECzl54SR7U9"
   },
   "outputs": [],
   "source": [
    "documents = vectordb._collection.get()['documents']\n",
    "print('문서의 개수 :', len(documents))\n",
    "print('문서의 최대 길이 :',max(len(document) for document in documents))\n",
    "print('문서의 최소 길이 :',min(len(document) for document in documents))\n",
    "print('문서의 평균 길이 :',sum(map(len, documents))/len(documents))\n",
    "plt.hist([len(review) for review in documents], bins=50)\n",
    "plt.xlabel('length of samples')\n",
    "plt.ylabel('number of samples')\n",
    "plt.show()"
   ]
  },
  {
   "cell_type": "code",
   "execution_count": null,
   "metadata": {
    "collapsed": true,
    "id": "J30wQr5ZR8rU",
    "jupyter": {
     "outputs_hidden": true
    }
   },
   "outputs": [],
   "source": [
    "input_text = \"콜금리와 밀접한 관련이 있는 단기금리는 어떤게 있어\"\n",
    "chatbot_response = qa_chain(input_text)\n",
    "chatbot_response"
   ]
  },
  {
   "cell_type": "code",
   "execution_count": null,
   "metadata": {
    "id": "wTXqwbX-R_rg"
   },
   "outputs": [],
   "source": [
    "input_text = \"콜금리와 밀접한 관련이 있는 단기이자는 어떤게 있어\"\n",
    "chatbot_response = qa_chain(input_text)\n",
    "chatbot_response"
   ]
  },
  {
   "cell_type": "code",
   "execution_count": null,
   "metadata": {
    "id": "40wEIw4kSEQ8"
   },
   "outputs": [],
   "source": [
    "input_text = \"24년 3월달의 전국 아파트 가격을 알려주세요\"\n",
    "chatbot_response = qa_chain(input_text)\n",
    "chatbot_response"
   ]
  },
  {
   "cell_type": "markdown",
   "metadata": {
    "id": "qkrjXDIDSGnk"
   },
   "source": [
    "# Demo Chatbot"
   ]
  },
  {
   "cell_type": "code",
   "execution_count": null,
   "metadata": {
    "collapsed": true,
    "id": "Gi181z5ySLAV",
    "jupyter": {
     "outputs_hidden": true
    }
   },
   "outputs": [],
   "source": [
    "# !pip install gradio==3.50.2"
   ]
  },
  {
   "cell_type": "code",
   "execution_count": null,
   "metadata": {
    "id": "6V2SeB3cSJOf"
   },
   "outputs": [],
   "source": [
    "import gradio as gr\n",
    "\n",
    "def respond(message, chat_history):\n",
    "    result = qa_chain(message)\n",
    "    bot_message = result['result']\n",
    "    chat_history.append((message, bot_message))\n",
    "    return \"\", chat_history\n",
    "\n",
    "with gr.Blocks(css=\".gradio-container {max-width: 600px; margin: auto;}\") as demo:\n",
    "    gr.Markdown(\"\"\"<h2 style='text-align: center;'>📖 시사경제용어사전</h2>\"\"\")\n",
    "    chatbot = gr.Chatbot(height=700, show_label=False)\n",
    "    msg = gr.Textbox(placeholder=\"질문을 입력하세요...\", label=\"\")\n",
    "    with gr.Row():\n",
    "        clear = gr.Button(\"🔄 초기화\", size=\"sm\")\n",
    "\n",
    "    msg.submit(respond, [msg, chatbot], [msg, chatbot])\n",
    "    clear.click(lambda: None, None, chatbot, queue=False)\n",
    "\n",
    "demo.launch(debug=True)\n",
    "#aa"
   ]
  },
  {
   "cell_type": "markdown",
   "metadata": {
    "id": "jHhSjJp2zrP8"
   },
   "source": [
    "## 유사어 사전을 적용함으로써 동일한 문서 검색이 가능한 모습"
   ]
  },
  {
   "cell_type": "markdown",
   "metadata": {
    "id": "DZ6rU7v2zdnm"
   },
   "source": [
    "![image.png](data:image/png;base64,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)"
   ]
  },
  {
   "cell_type": "markdown",
   "metadata": {
    "id": "L2CU3-zozizI"
   },
   "source": [
    "![image.png](data:image/png;base64,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)"
   ]
  },
  {
   "cell_type": "markdown",
   "metadata": {
    "id": "MjiGBpul0EcS"
   },
   "source": [
    "## Data에 없는 내용을 검색하니 Prompt 내용대로 문서에서 검색 할 수 없는 내용이라고  언급       "
   ]
  },
  {
   "cell_type": "markdown",
   "metadata": {
    "id": "tjvMTlvuznDu"
   },
   "source": [
    "![image.png](data:image/png;base64,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)"
   ]
  }
 ],
 "metadata": {
  "accelerator": "GPU",
  "colab": {
   "gpuType": "T4",
   "provenance": []
  },
  "kernelspec": {
   "display_name": "Python 3 (ipykernel)",
   "language": "python",
   "name": "python3"
  },
  "language_info": {
   "codemirror_mode": {
    "name": "ipython",
    "version": 3
   },
   "file_extension": ".py",
   "mimetype": "text/x-python",
   "name": "python",
   "nbconvert_exporter": "python",
   "pygments_lexer": "ipython3",
   "version": "3.11.5"
  }
 },
 "nbformat": 4,
 "nbformat_minor": 4
}
